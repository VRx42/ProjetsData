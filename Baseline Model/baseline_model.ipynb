{
 "cells": [
  {
   "cell_type": "markdown",
   "metadata": {},
   "source": [
    "## Objective\n",
    "- develop a baseline model for predicting if a customer will buy an app after clicking on an ad\n",
    "### Data\n",
    "- ks-projects-201612\n",
    "- ks-projects-201801\n",
    "- train_sample\n"
   ]
  },
  {
   "cell_type": "code",
   "execution_count": 7,
   "metadata": {},
   "outputs": [],
   "source": [
    "import pandas as pd\n",
    "from sklearn import preprocessing"
   ]
  },
  {
   "cell_type": "code",
   "execution_count": 8,
   "metadata": {},
   "outputs": [
    {
     "output_type": "execute_result",
     "data": {
      "text/plain": "       ip  app  device  os  channel          click_time      attributed_time  \\\n0   89489    3       1  13      379 2017-11-06 15:13:23                  NaN   \n1  204158   35       1  13       21 2017-11-06 15:41:07  2017-11-07 08:17:19   \n2    3437    6       1  13      459 2017-11-06 15:42:32                  NaN   \n3  167543    3       1  13      379 2017-11-06 15:56:17                  NaN   \n4  147509    3       1  13      379 2017-11-06 15:57:01                  NaN   \n5   71421   15       1  13      153 2017-11-06 16:00:00                  NaN   \n6   76953   14       1  13      379 2017-11-06 16:00:01                  NaN   \n7  187909    2       1  25      477 2017-11-06 16:00:01                  NaN   \n8  116779    1       1   8      150 2017-11-06 16:00:01                  NaN   \n9   47857    3       1  15      205 2017-11-06 16:00:01                  NaN   \n\n   is_attributed  \n0              0  \n1              1  \n2              0  \n3              0  \n4              0  \n5              0  \n6              0  \n7              0  \n8              0  \n9              0  ",
      "text/html": "<div>\n<style scoped>\n    .dataframe tbody tr th:only-of-type {\n        vertical-align: middle;\n    }\n\n    .dataframe tbody tr th {\n        vertical-align: top;\n    }\n\n    .dataframe thead th {\n        text-align: right;\n    }\n</style>\n<table border=\"1\" class=\"dataframe\">\n  <thead>\n    <tr style=\"text-align: right;\">\n      <th></th>\n      <th>ip</th>\n      <th>app</th>\n      <th>device</th>\n      <th>os</th>\n      <th>channel</th>\n      <th>click_time</th>\n      <th>attributed_time</th>\n      <th>is_attributed</th>\n    </tr>\n  </thead>\n  <tbody>\n    <tr>\n      <td>0</td>\n      <td>89489</td>\n      <td>3</td>\n      <td>1</td>\n      <td>13</td>\n      <td>379</td>\n      <td>2017-11-06 15:13:23</td>\n      <td>NaN</td>\n      <td>0</td>\n    </tr>\n    <tr>\n      <td>1</td>\n      <td>204158</td>\n      <td>35</td>\n      <td>1</td>\n      <td>13</td>\n      <td>21</td>\n      <td>2017-11-06 15:41:07</td>\n      <td>2017-11-07 08:17:19</td>\n      <td>1</td>\n    </tr>\n    <tr>\n      <td>2</td>\n      <td>3437</td>\n      <td>6</td>\n      <td>1</td>\n      <td>13</td>\n      <td>459</td>\n      <td>2017-11-06 15:42:32</td>\n      <td>NaN</td>\n      <td>0</td>\n    </tr>\n    <tr>\n      <td>3</td>\n      <td>167543</td>\n      <td>3</td>\n      <td>1</td>\n      <td>13</td>\n      <td>379</td>\n      <td>2017-11-06 15:56:17</td>\n      <td>NaN</td>\n      <td>0</td>\n    </tr>\n    <tr>\n      <td>4</td>\n      <td>147509</td>\n      <td>3</td>\n      <td>1</td>\n      <td>13</td>\n      <td>379</td>\n      <td>2017-11-06 15:57:01</td>\n      <td>NaN</td>\n      <td>0</td>\n    </tr>\n    <tr>\n      <td>5</td>\n      <td>71421</td>\n      <td>15</td>\n      <td>1</td>\n      <td>13</td>\n      <td>153</td>\n      <td>2017-11-06 16:00:00</td>\n      <td>NaN</td>\n      <td>0</td>\n    </tr>\n    <tr>\n      <td>6</td>\n      <td>76953</td>\n      <td>14</td>\n      <td>1</td>\n      <td>13</td>\n      <td>379</td>\n      <td>2017-11-06 16:00:01</td>\n      <td>NaN</td>\n      <td>0</td>\n    </tr>\n    <tr>\n      <td>7</td>\n      <td>187909</td>\n      <td>2</td>\n      <td>1</td>\n      <td>25</td>\n      <td>477</td>\n      <td>2017-11-06 16:00:01</td>\n      <td>NaN</td>\n      <td>0</td>\n    </tr>\n    <tr>\n      <td>8</td>\n      <td>116779</td>\n      <td>1</td>\n      <td>1</td>\n      <td>8</td>\n      <td>150</td>\n      <td>2017-11-06 16:00:01</td>\n      <td>NaN</td>\n      <td>0</td>\n    </tr>\n    <tr>\n      <td>9</td>\n      <td>47857</td>\n      <td>3</td>\n      <td>1</td>\n      <td>15</td>\n      <td>205</td>\n      <td>2017-11-06 16:00:01</td>\n      <td>NaN</td>\n      <td>0</td>\n    </tr>\n  </tbody>\n</table>\n</div>"
     },
     "metadata": {},
     "execution_count": 8
    }
   ],
   "source": [
    "click_data = pd.read_csv('train_sample.csv',\n",
    "                         parse_dates=['click_time'])\n",
    "click_data.head(10)"
   ]
  },
  {
   "cell_type": "markdown",
   "metadata": {},
   "source": [
    "### Feature engineering\n",
    "- Features from timestamps"
   ]
  },
  {
   "cell_type": "code",
   "execution_count": 11,
   "metadata": {
    "tags": []
   },
   "outputs": [
    {
     "output_type": "execute_result",
     "data": {
      "text/plain": "       ip  app  device  os  channel          click_time      attributed_time  \\\n0   89489    3       1  13      379 2017-11-06 15:13:23                  NaN   \n1  204158   35       1  13       21 2017-11-06 15:41:07  2017-11-07 08:17:19   \n2    3437    6       1  13      459 2017-11-06 15:42:32                  NaN   \n3  167543    3       1  13      379 2017-11-06 15:56:17                  NaN   \n4  147509    3       1  13      379 2017-11-06 15:57:01                  NaN   \n\n   is_attributed  day  hour  minute  second  \n0              0    6    15      13      23  \n1              1    6    15      41       7  \n2              0    6    15      42      32  \n3              0    6    15      56      17  \n4              0    6    15      57       1  ",
      "text/html": "<div>\n<style scoped>\n    .dataframe tbody tr th:only-of-type {\n        vertical-align: middle;\n    }\n\n    .dataframe tbody tr th {\n        vertical-align: top;\n    }\n\n    .dataframe thead th {\n        text-align: right;\n    }\n</style>\n<table border=\"1\" class=\"dataframe\">\n  <thead>\n    <tr style=\"text-align: right;\">\n      <th></th>\n      <th>ip</th>\n      <th>app</th>\n      <th>device</th>\n      <th>os</th>\n      <th>channel</th>\n      <th>click_time</th>\n      <th>attributed_time</th>\n      <th>is_attributed</th>\n      <th>day</th>\n      <th>hour</th>\n      <th>minute</th>\n      <th>second</th>\n    </tr>\n  </thead>\n  <tbody>\n    <tr>\n      <td>0</td>\n      <td>89489</td>\n      <td>3</td>\n      <td>1</td>\n      <td>13</td>\n      <td>379</td>\n      <td>2017-11-06 15:13:23</td>\n      <td>NaN</td>\n      <td>0</td>\n      <td>6</td>\n      <td>15</td>\n      <td>13</td>\n      <td>23</td>\n    </tr>\n    <tr>\n      <td>1</td>\n      <td>204158</td>\n      <td>35</td>\n      <td>1</td>\n      <td>13</td>\n      <td>21</td>\n      <td>2017-11-06 15:41:07</td>\n      <td>2017-11-07 08:17:19</td>\n      <td>1</td>\n      <td>6</td>\n      <td>15</td>\n      <td>41</td>\n      <td>7</td>\n    </tr>\n    <tr>\n      <td>2</td>\n      <td>3437</td>\n      <td>6</td>\n      <td>1</td>\n      <td>13</td>\n      <td>459</td>\n      <td>2017-11-06 15:42:32</td>\n      <td>NaN</td>\n      <td>0</td>\n      <td>6</td>\n      <td>15</td>\n      <td>42</td>\n      <td>32</td>\n    </tr>\n    <tr>\n      <td>3</td>\n      <td>167543</td>\n      <td>3</td>\n      <td>1</td>\n      <td>13</td>\n      <td>379</td>\n      <td>2017-11-06 15:56:17</td>\n      <td>NaN</td>\n      <td>0</td>\n      <td>6</td>\n      <td>15</td>\n      <td>56</td>\n      <td>17</td>\n    </tr>\n    <tr>\n      <td>4</td>\n      <td>147509</td>\n      <td>3</td>\n      <td>1</td>\n      <td>13</td>\n      <td>379</td>\n      <td>2017-11-06 15:57:01</td>\n      <td>NaN</td>\n      <td>0</td>\n      <td>6</td>\n      <td>15</td>\n      <td>57</td>\n      <td>1</td>\n    </tr>\n  </tbody>\n</table>\n</div>"
     },
     "metadata": {},
     "execution_count": 11
    }
   ],
   "source": [
    "#new columns for timestamp features day, hour, minute, and second\n",
    "clicks = click_data.copy()\n",
    "\n",
    "clicks['day'] = clicks['click_time'].dt.day.astype('uint8')\n",
    "clicks['hour'] =  clicks['click_time'].dt.hour.astype('uint8')\n",
    "clicks['minute'] =  clicks['click_time'].dt.minute.astype('uint8')\n",
    "clicks['second'] =  clicks['click_time'].dt.second.astype('uint8')\n",
    "\n",
    "clicks.head()"
   ]
  },
  {
   "cell_type": "markdown",
   "metadata": {},
   "source": [
    "- Label Encoding"
   ]
  },
  {
   "cell_type": "code",
   "execution_count": 13,
   "metadata": {},
   "outputs": [
    {
     "output_type": "error",
     "ename": "NameError",
     "evalue": "name 'preprocessing' is not defined",
     "traceback": [
      "\u001b[1;31m---------------------------------------------------------------------------\u001b[0m",
      "\u001b[1;31mNameError\u001b[0m                                 Traceback (most recent call last)",
      "\u001b[1;32m<ipython-input-13-3cbed1e9295e>\u001b[0m in \u001b[0;36m<module>\u001b[1;34m\u001b[0m\n\u001b[0;32m      1\u001b[0m \u001b[0mcat_features\u001b[0m \u001b[1;33m=\u001b[0m \u001b[1;33m[\u001b[0m\u001b[1;34m'ip'\u001b[0m\u001b[1;33m,\u001b[0m \u001b[1;34m'app'\u001b[0m\u001b[1;33m,\u001b[0m \u001b[1;34m'device'\u001b[0m\u001b[1;33m,\u001b[0m \u001b[1;34m'os'\u001b[0m\u001b[1;33m,\u001b[0m \u001b[1;34m'channel'\u001b[0m\u001b[1;33m]\u001b[0m\u001b[1;33m\u001b[0m\u001b[1;33m\u001b[0m\u001b[0m\n\u001b[1;32m----> 2\u001b[1;33m \u001b[0mencoder\u001b[0m \u001b[1;33m=\u001b[0m \u001b[0mpreprocessing\u001b[0m\u001b[1;33m.\u001b[0m\u001b[0mLabelEncoder\u001b[0m\u001b[1;33m(\u001b[0m\u001b[1;33m)\u001b[0m\u001b[1;33m\u001b[0m\u001b[1;33m\u001b[0m\u001b[0m\n\u001b[0m\u001b[0;32m      3\u001b[0m \u001b[1;33m\u001b[0m\u001b[0m\n\u001b[0;32m      4\u001b[0m \u001b[1;31m#new columns in clicks using preprocessing.LabelEncoder()\u001b[0m\u001b[1;33m\u001b[0m\u001b[1;33m\u001b[0m\u001b[1;33m\u001b[0m\u001b[0m\n\u001b[0;32m      5\u001b[0m \u001b[1;32mfor\u001b[0m \u001b[0mfeature\u001b[0m \u001b[1;32min\u001b[0m \u001b[0mcat_features\u001b[0m\u001b[1;33m:\u001b[0m\u001b[1;33m\u001b[0m\u001b[1;33m\u001b[0m\u001b[0m\n",
      "\u001b[1;31mNameError\u001b[0m: name 'preprocessing' is not defined"
     ]
    }
   ],
   "source": [
    "cat_features = ['ip', 'app', 'device', 'os', 'channel']\n",
    "encoder = preprocessing.LabelEncoder()\n",
    "\n",
    "#new columns in clicks using preprocessing.LabelEncoder()\n",
    "for feature in cat_features:\n",
    "    name = feature + \"_labels\"\n",
    "    encoded = encoder.fit_transform(clicks[feature])\n",
    "    clicks[name] = encoded"
   ]
  },
  {
   "cell_type": "code",
   "execution_count": null,
   "metadata": {},
   "outputs": [],
   "source": []
  }
 ],
 "metadata": {
  "language_info": {
   "codemirror_mode": {
    "name": "ipython",
    "version": 3
   },
   "file_extension": ".py",
   "mimetype": "text/x-python",
   "name": "python",
   "nbconvert_exporter": "python",
   "pygments_lexer": "ipython3",
   "version": "3.7.4-final"
  },
  "orig_nbformat": 2,
  "kernelspec": {
   "name": "python3",
   "display_name": "Python 3"
  }
 },
 "nbformat": 4,
 "nbformat_minor": 2
}